{
 "cells": [
  {
   "cell_type": "code",
   "execution_count": 3,
   "metadata": {},
   "outputs": [],
   "source": [
    "import re\n",
    "import operator\n",
    "from functools import reduce\n",
    "from dataclasses import dataclass\n",
    "from ipywidgets import interact, interactive, fixed, interact_manual\n",
    "import ipywidgets as widgets\n",
    "from IPython.display import display\n",
    "\n",
    "positions = []\n",
    "velocities = []\n",
    "pattern = re.compile(r\"p=(-?\\d+),(-?\\d+) v=(-?\\d+),(-?\\d+)\")\n",
    "with open(\"input.txt\") as f:\n",
    "    lines = f.readlines()\n",
    "    for line in lines:\n",
    "        match = pattern.search(line.strip())\n",
    "        if match:\n",
    "            p_x = int(match.group(1))\n",
    "            p_y = int(match.group(2))\n",
    "            positions.append((p_x, p_y))\n",
    "            v_x = int(match.group(3))\n",
    "            v_y = int(match.group(4))\n",
    "            velocities.append((v_x, v_y))\n",
    "        else:\n",
    "            print(\"No match found\")\n",
    "\n",
    "assert len(positions) == len(velocities)\n",
    "\n",
    "\n",
    "@dataclass\n",
    "class Point:\n",
    "    x: int\n",
    "    y: int\n",
    "    label: str = \".\"\n",
    "    cnt: int = 0  # cnt of robots\n",
    "\n",
    "\n",
    "total_robots = len(positions)\n",
    "r = 103\n",
    "# r = 7\n",
    "c = 101\n",
    "# c = 11\n",
    "grid: list[list[Point]] = [[Point(x=x, y=y, cnt=0) for y in range(c)] for x in range(r)]\n",
    "\n",
    "\n",
    "def pretty_print_grid(grid: list[list[Point]]) -> str:\n",
    "    s = \"\"\n",
    "    for row in grid:\n",
    "        for point in row:\n",
    "            s += point.label\n",
    "        s += \"\\n\"\n",
    "\n",
    "    print(s)\n",
    "\n",
    "\n",
    "def move_robots_on_grid(time: int):\n",
    "    for i in range(total_robots):\n",
    "        p_x, p_y = positions[i]\n",
    "        v_x, v_y = velocities[i]\n",
    "\n",
    "        new_x = (p_x + time * v_x) % c\n",
    "        new_y = (p_y + time * v_y) % r\n",
    "\n",
    "        grid[new_y][new_x].cnt += 1\n",
    "        grid[new_y][new_x].label = \"X\"\n",
    "\n",
    "    return grid\n",
    "\n",
    "\n",
    "# cnt robots in quadrant\n",
    "def safety_score(grid: list[list[Point]]):\n",
    "    center = (r // 2, c // 2)\n",
    "    robots_per_quad = [0, 0, 0, 0]\n",
    "    for i in range(r):\n",
    "        for j in range(c):\n",
    "            if i < center[0] and j < center[1]:\n",
    "                robots_per_quad[0] += grid[i][j].cnt\n",
    "            elif i < center[0] and j > center[1]:\n",
    "                robots_per_quad[1] += grid[i][j].cnt\n",
    "            elif i > center[0] and j < center[1]:\n",
    "                robots_per_quad[2] += grid[i][j].cnt\n",
    "            elif i > center[0] and j > center[1]:\n",
    "                robots_per_quad[3] += grid[i][j].cnt\n",
    "\n",
    "    safety_factor = reduce(operator.mul, robots_per_quad, 1)\n",
    "    return safety_factor\n",
    "\n",
    "\n",
    "def output_grid_to_file(grid: list[list[Point]]):\n",
    "    with open(\"output.txt\", \"w\") as f:\n",
    "        for row in grid:\n",
    "            for point in row:\n",
    "                f.write(point.label)\n",
    "            f.write(\"\\n\")\n",
    "\n",
    "\n",
    "def is_robot_positions_unique(grid: list[list[Point]]) -> bool:\n",
    "    for i in range(r):\n",
    "        for j in range(c):\n",
    "            if grid[i][j].cnt > 1:\n",
    "                return False\n",
    "\n",
    "    return True\n",
    "\n",
    "\n",
    "def reset_grid(grid: list[list[Point]]):\n",
    "    for i in range(r):\n",
    "        for j in range(c):\n",
    "            grid[i][j].cnt = 0\n",
    "            grid[i][j].label = \".\"\n",
    "\n",
    "\n",
    "def look_at_pattern(time: int):\n",
    "    move_robots_on_grid(time)\n",
    "    ans = pretty_print_grid(grid)\n",
    "    reset_grid(grid)\n",
    "\n"
   ]
  },
  {
   "cell_type": "code",
   "execution_count": 8,
   "metadata": {},
   "outputs": [
    {
     "data": {
      "application/vnd.jupyter.widget-view+json": {
       "model_id": "abc66cdfcd0d42d582dca1cf01cd4e8f",
       "version_major": 2,
       "version_minor": 0
      },
      "text/plain": [
       "interactive(children=(IntSlider(value=6910, description='time', max=10403), Output()), _dom_classes=('widget-i…"
      ]
     },
     "metadata": {},
     "output_type": "display_data"
    },
    {
     "data": {
      "text/plain": [
       "<function __main__.look_at_pattern(time: int)>"
      ]
     },
     "execution_count": 8,
     "metadata": {},
     "output_type": "execute_result"
    }
   ],
   "source": [
    "interact(look_at_pattern, time=widgets.IntSlider(min=0, max=r*c, step=1, value=6910))"
   ]
  },
  {
   "cell_type": "code",
   "execution_count": null,
   "metadata": {},
   "outputs": [],
   "source": []
  }
 ],
 "metadata": {
  "kernelspec": {
   "display_name": "venv",
   "language": "python",
   "name": "python3"
  },
  "language_info": {
   "codemirror_mode": {
    "name": "ipython",
    "version": 3
   },
   "file_extension": ".py",
   "mimetype": "text/x-python",
   "name": "python",
   "nbconvert_exporter": "python",
   "pygments_lexer": "ipython3",
   "version": "3.11.0"
  }
 },
 "nbformat": 4,
 "nbformat_minor": 2
}
